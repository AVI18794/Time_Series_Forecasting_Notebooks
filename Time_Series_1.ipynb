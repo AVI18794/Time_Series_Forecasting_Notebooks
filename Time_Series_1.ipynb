{
  "nbformat": 4,
  "nbformat_minor": 0,
  "metadata": {
    "colab": {
      "name": "Time_Series_1.ipynb",
      "provenance": [],
      "collapsed_sections": [],
      "authorship_tag": "ABX9TyN1jaW+rn2N44If1RC7o4aT",
      "include_colab_link": true
    },
    "kernelspec": {
      "name": "python3",
      "display_name": "Python 3"
    }
  },
  "cells": [
    {
      "cell_type": "markdown",
      "metadata": {
        "id": "view-in-github",
        "colab_type": "text"
      },
      "source": [
        "<a href=\"https://colab.research.google.com/github/AVI18794/Time_Series_Forecasting_Notebooks/blob/main/Time_Series_1.ipynb\" target=\"_parent\"><img src=\"https://colab.research.google.com/assets/colab-badge.svg\" alt=\"Open In Colab\"/></a>"
      ]
    },
    {
      "cell_type": "markdown",
      "metadata": {
        "id": "t_2EHX-XVFeZ"
      },
      "source": [
        "Time Series\r\n",
        "Time Series is simply a set(series) of data points ordered in time.In a time series, time is often independent variable and the goal is usually to make a forecast for the future.\r\n",
        "There are several aspects while dealing with time series data.\r\n",
        "\r\n",
        " * Seasonality:- When there is same pattern /behaviour is being observed over time at the same period.\r\n",
        " * Stationary\r\n",
        " * Trends\r\n",
        " * Cyclic\r\n",
        " * White Noise\r\n",
        "\r\n",
        "\r\n",
        "\r\n",
        " **Things to remember while working with time series data**\r\n",
        "\r\n",
        "  * Time Series can be irregularly spaced.(In some cases the data gathered will be irregular and there are different ways of handling irregularities in the data.)\r\n",
        "  * External Factors can contribute to target variable and needs to be factored in\r\n",
        "  * Time series is mostly data analysis.\r\n",
        "  * Understanding seasonality and cyclic can be confusing.\r\n",
        "  * Be careful with missing information.\r\n"
      ]
    },
    {
      "cell_type": "code",
      "metadata": {
        "id": "69rUioTUQUB6"
      },
      "source": [
        "#Import all the required libraries\r\n",
        "import pandas as pd\r\n",
        "import seaborn as sns\r\n",
        "import warnings\r\n",
        "warnings.filterwarnings('ignore')\r\n"
      ],
      "execution_count": null,
      "outputs": []
    },
    {
      "cell_type": "markdown",
      "metadata": {
        "id": "4CNuXvSoTRzW"
      },
      "source": [
        "When do we call the data as stationary data.\r\n",
        "\r\n",
        "* When the mean of the data is constant.\r\n",
        "\r\n",
        "* When the SD is constant.\r\n",
        "\r\n",
        "* When there is no Seasonality/Trend.\r\n",
        "\r\n",
        "\r\n",
        "White Noise:-  When there is no correlation at all in the data then it is known as white noise.\r\n",
        "\r\n"
      ]
    }
  ]
}